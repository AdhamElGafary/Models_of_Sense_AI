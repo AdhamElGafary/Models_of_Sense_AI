{
  "nbformat": 4,
  "nbformat_minor": 0,
  "metadata": {
    "colab": {
      "provenance": []
    },
    "kernelspec": {
      "name": "python3",
      "display_name": "Python 3"
    },
    "language_info": {
      "name": "python"
    }
  },
  "cells": [
    {
      "cell_type": "code",
      "execution_count": null,
      "metadata": {
        "colab": {
          "base_uri": "https://localhost:8080/"
        },
        "id": "YO3tyXhxMTeR",
        "outputId": "24faf0b6-cc19-448a-ebbb-9461dd8c7cb2"
      },
      "outputs": [
        {
          "output_type": "stream",
          "name": "stderr",
          "text": [
            "WARNING:absl:Compiled the loaded model, but the compiled metrics have yet to be built. `model.compile_metrics` will be empty until you train or evaluate the model.\n"
          ]
        },
        {
          "output_type": "stream",
          "name": "stdout",
          "text": [
            "Enter Path of image: /content/PrivateTest_77130003.jpg\n",
            "\u001b[1m1/1\u001b[0m \u001b[32m━━━━━━━━━━━━━━━━━━━━\u001b[0m\u001b[37m\u001b[0m \u001b[1m0s\u001b[0m 250ms/step\n",
            "Surprise\n"
          ]
        }
      ],
      "source": [
        "import numpy as np\n",
        "import cv2\n",
        "from tensorflow.keras.models import load_model\n",
        "\n",
        "# Download the trained model\n",
        "model = load_model(\"/content/drive/MyDrive/emotion_model.h5\")\n",
        "\n",
        "# Emotion names\n",
        "emotion_labels = [\"Angry\", \"Disgust\", \"Fear\", \"Happy\", \"Neutral\", \"Sad\", \"Surprise\"]\n",
        "\n",
        "def predict_emotion(image_path):\n",
        "    # Upload image and convert to grayscale\n",
        "    img = cv2.imread(image_path, cv2.IMREAD_GRAYSCALE)\n",
        "    if img is None:\n",
        "        print(\"Error: Not found photo\")\n",
        "        return\n",
        "\n",
        "    # Resize to fit the template (48x48)\n",
        "    img = cv2.resize(img, (48, 48))\n",
        "    img = img / 255.0  # Convert values ​​between 0 and 1\n",
        "    img = img.reshape(1, 48, 48, 1)  # Reshape the image to fit the model.\n",
        "\n",
        "# Predicting feelings\n",
        "    prediction = model.predict(img)\n",
        "    emotion_index = np.argmax(prediction) # Extract the highest prediction value\n",
        "    emotion = emotion_labels[emotion_index]  # Name of feelings\n",
        "    print(f\"{emotion}\")\n",
        "\n",
        "# Replace the path with your image path.\n",
        "image_path = input(\"Enter Path of image: \")\n",
        "predict_emotion(image_path)\n"
      ]
    }
  ]
}