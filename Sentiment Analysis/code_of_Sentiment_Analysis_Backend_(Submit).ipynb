{
  "nbformat": 4,
  "nbformat_minor": 0,
  "metadata": {
    "colab": {
      "provenance": []
    },
    "kernelspec": {
      "name": "python3",
      "display_name": "Python 3"
    },
    "language_info": {
      "name": "python"
    }
  },
  "cells": [
    {
      "cell_type": "code",
      "execution_count": 3,
      "metadata": {
        "colab": {
          "base_uri": "https://localhost:8080/"
        },
        "id": "sdK2FhWL9H7e",
        "outputId": "c2d4df0e-c5f3-4727-becd-17ba5290aee7"
      },
      "outputs": [
        {
          "output_type": "stream",
          "name": "stdout",
          "text": [
            "Vectorizer loaded successfully\n",
            "Model loaded successfully\n",
            "Enter the text: hello,@@@#,m,y names adham ismail ia m so so happy \n",
            "Text transformed successfully\n",
            "\u001b[1m1/1\u001b[0m \u001b[32m━━━━━━━━━━━━━━━━━━━━\u001b[0m\u001b[37m\u001b[0m \u001b[1m0s\u001b[0m 342ms/step\n",
            "Raw prediction value: 0.7304349541664124\n",
            "Positive 😊\n"
          ]
        },
        {
          "output_type": "stream",
          "name": "stderr",
          "text": [
            "<ipython-input-3-a3a6d84c22fe>:27: DeprecationWarning: Conversion of an array with ndim > 0 to a scalar is deprecated, and will error in future. Ensure you extract a single element from your array before performing this operation. (Deprecated NumPy 1.25.)\n",
            "  prediction_value = float(prediction[0])\n"
          ]
        }
      ],
      "source": [
        "import pickle\n",
        "import tensorflow as tf\n",
        "import numpy as np\n",
        "\n",
        "try:\n",
        "    # Load the vectorizer\n",
        "    with open('/content/drive/MyDrive/vectorizer.pkl', 'rb') as vectorizer_file:\n",
        "        loaded_vectorizer = pickle.load(vectorizer_file)\n",
        "    print(\"Vectorizer loaded successfully\")\n",
        "\n",
        "    # Load the model\n",
        "    with open('/content/drive/MyDrive/trained_model.pkl', 'rb') as model_file:\n",
        "        loaded_model = pickle.load(model_file)\n",
        "    print(\"Model loaded successfully\")\n",
        "\n",
        "    # Get input\n",
        "    new_text = input(\"Enter the text: \")\n",
        "    if not new_text:\n",
        "        raise ValueError(\"Text cannot be empty\")\n",
        "\n",
        "    # Transform text\n",
        "    new_text_tfidf = loaded_vectorizer.transform([new_text])\n",
        "    print(\"Text transformed successfully\")\n",
        "\n",
        "    # Make prediction\n",
        "    prediction = loaded_model.predict(new_text_tfidf)\n",
        "    prediction_value = float(prediction[0])\n",
        "\n",
        "    print(f\"Raw prediction value: {prediction_value}\")\n",
        "\n",
        "    if prediction_value >= 0.5:\n",
        "        print(\"Positive 😊\")\n",
        "    else:\n",
        "        print(\"Negative 😔\")\n",
        "\n",
        "except Exception as e:\n",
        "    print(f\"An error occurred: {str(e)}\")"
      ]
    }
  ]
}